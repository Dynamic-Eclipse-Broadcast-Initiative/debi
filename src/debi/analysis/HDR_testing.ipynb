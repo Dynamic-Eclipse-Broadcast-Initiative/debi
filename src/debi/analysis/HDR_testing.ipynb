{
 "cells": [
  {
   "cell_type": "code",
   "execution_count": 18,
   "id": "92d82e1b",
   "metadata": {},
   "outputs": [
    {
     "data": {
      "text/plain": [
       "True"
      ]
     },
     "execution_count": 18,
     "metadata": {},
     "output_type": "execute_result"
    }
   ],
   "source": [
    "# Python HDR tests\n",
    "import cv2 as cv\n",
    "import numpy as np\n",
    "# Loading exposure images into a list\n",
    "img_fn = [r\"F:\\20170821\\test5\\cate17-002_total_1_401.tif\",r\"F:\\20170821\\test5\\cate17-002_total_1_402.tif\",r\"F:\\20170821\\test5\\cate17-002_total_1_403.tif\",r\"F:\\20170821\\test5\\cate17-002_total_1_404.tif\",r\"F:\\20170821\\test5\\cate17-002_total_1_405.tif\",r\"F:\\20170821\\test5\\cate17-002_total_1_406.tif\",r\"F:\\20170821\\test5\\cate17-002_total_1_407.tif\"]\n",
    "img_list = [cv.imread(fn) for fn in img_fn]\n",
    "exposure_times = np.array([0.4,1.3,4.0,13.0,40.0,130.0,400.0], dtype=np.float32)\n",
    "# Merge exposures to HDR image\n",
    "merge_debevec = cv.createMergeDebevec()\n",
    "hdr_debevec = merge_debevec.process(img_list, times=exposure_times.copy())\n",
    "# Tonemap HDR image\n",
    "tonemap1 = cv.createTonemap(gamma=4.0)\n",
    "res_debevec = tonemap1.process(hdr_debevec.copy())\n",
    "# Convert datatype to 8-bit and save\n",
    "res_debevec_8bit = np.clip(res_debevec*255, 0, 255).astype('uint8')\n",
    "cv.imwrite(r\"F:\\20170821\\test5\\cate17HDRtest1.jpg\", res_debevec_8bit)\n"
   ]
  },
  {
   "cell_type": "code",
   "execution_count": 19,
   "id": "806727b9",
   "metadata": {},
   "outputs": [
    {
     "name": "stdout",
     "output_type": "stream",
     "text": [
      "<class 'list'>\n"
     ]
    }
   ],
   "source": [
    "print(type(img_list))"
   ]
  },
  {
   "cell_type": "code",
   "execution_count": 32,
   "id": "9b5f5e23",
   "metadata": {},
   "outputs": [
    {
     "name": "stdout",
     "output_type": "stream",
     "text": [
      "16\n",
      "(2078, 3096)\n",
      "float64\n",
      "<class 'list'>\n",
      "16\n",
      "(2078, 3096)\n",
      "float64\n",
      "<class 'list'>\n",
      "16\n",
      "(2078, 3096)\n",
      "float64\n",
      "<class 'list'>\n",
      "16\n",
      "(2078, 3096)\n",
      "float64\n",
      "<class 'list'>\n"
     ]
    },
    {
     "ename": "error",
     "evalue": "OpenCV(4.7.0) D:\\a\\opencv-python\\opencv-python\\opencv\\modules\\photo\\src\\merge.cpp:69: error: (-215:Assertion failed) images[0].depth() == CV_8U in function 'cv::MergeDebevecImpl::process'\n",
     "output_type": "error",
     "traceback": [
      "\u001b[1;31m---------------------------------------------------------------------------\u001b[0m",
      "\u001b[1;31merror\u001b[0m                                     Traceback (most recent call last)",
      "Input \u001b[1;32mIn [32]\u001b[0m, in \u001b[0;36m<cell line: 24>\u001b[1;34m()\u001b[0m\n\u001b[0;32m     22\u001b[0m \u001b[38;5;66;03m# Merge exposures to HDR image\u001b[39;00m\n\u001b[0;32m     23\u001b[0m merge_debevec \u001b[38;5;241m=\u001b[39m cv\u001b[38;5;241m.\u001b[39mcreateMergeDebevec()\n\u001b[1;32m---> 24\u001b[0m hdr_debevec \u001b[38;5;241m=\u001b[39m \u001b[43mmerge_debevec\u001b[49m\u001b[38;5;241;43m.\u001b[39;49m\u001b[43mprocess\u001b[49m\u001b[43m(\u001b[49m\u001b[43mimg_list\u001b[49m\u001b[43m,\u001b[49m\u001b[43m \u001b[49m\u001b[43mtimes\u001b[49m\u001b[38;5;241;43m=\u001b[39;49m\u001b[43mexposure_times\u001b[49m\u001b[38;5;241;43m.\u001b[39;49m\u001b[43mcopy\u001b[49m\u001b[43m(\u001b[49m\u001b[43m)\u001b[49m\u001b[43m)\u001b[49m\n\u001b[0;32m     25\u001b[0m \u001b[38;5;66;03m# Tonemap HDR image\u001b[39;00m\n\u001b[0;32m     26\u001b[0m tonemap1 \u001b[38;5;241m=\u001b[39m cv\u001b[38;5;241m.\u001b[39mcreateTonemap(gamma\u001b[38;5;241m=\u001b[39m\u001b[38;5;241m4.0\u001b[39m)\n",
      "\u001b[1;31merror\u001b[0m: OpenCV(4.7.0) D:\\a\\opencv-python\\opencv-python\\opencv\\modules\\photo\\src\\merge.cpp:69: error: (-215:Assertion failed) images[0].depth() == CV_8U in function 'cv::MergeDebevecImpl::process'\n"
     ]
    }
   ],
   "source": [
    "# Python HDR tests\n",
    "import cv2 as cv\n",
    "import numpy as np\n",
    "from astropy.io import fits\n",
    "from astropy.utils.data import get_pkg_data_filename\n",
    "\n",
    "# Loading exposure images into a list\n",
    "img_fn = [r\"C:\\Users\\mpenn\\Desktop\\2023-01-25-0139_9-test00800_00001.fits\",r\"C:\\Users\\mpenn\\Desktop\\2023-01-25-0139_9-test08000_00001.fits\",r\"C:\\Users\\mpenn\\Desktop\\2023-01-25-0140_0-test00008_00001.fits\",r\"C:\\Users\\mpenn\\Desktop\\2023-01-25-0140_0-test00080_00001.fits\"]\n",
    "for fn in img_fn:\n",
    "    image_file=get_pkg_data_filename(fn)\n",
    "    temp=fits.getdata(image_file, ext=0)\n",
    "    hdr=fits.open(image_file)\n",
    "    print(hdr[0].header['BITPIX'])\n",
    "    temp2=temp.astype(float)\n",
    "    print(temp.shape)\n",
    "    print(temp2.dtype)\n",
    "    img_list.append(temp2)\n",
    "    print(type(img_list))\n",
    "img_list = [fits.getdata(get_pkg_data_filename(fn), ext=0) for fn in img_fn]\n",
    "#img_list = [cv.imread(fn) for fn in img_fn]\n",
    "exposure_times = np.array([800.0, 8000.0, 8.0, 80.0], dtype=np.float32)\n",
    "# Merge exposures to HDR image\n",
    "merge_debevec = cv.createMergeDebevec()\n",
    "hdr_debevec = merge_debevec.process(img_list, times=exposure_times.copy())\n",
    "# Tonemap HDR image\n",
    "tonemap1 = cv.createTonemap(gamma=4.0)\n",
    "res_debevec = tonemap1.process(hdr_debevec.copy())\n",
    "# Convert datatype to 8-bit and save\n",
    "res_debevec_8bit = np.clip(res_debevec*255, 0, 255).astype('uint8')\n",
    "cv.imwrite(r\"C:\\Users\\mpenn\\Desktop\\testmoon.jpeg\", res_debevec_8bit)\n"
   ]
  },
  {
   "cell_type": "code",
   "execution_count": null,
   "id": "24ed6027",
   "metadata": {},
   "outputs": [],
   "source": []
  }
 ],
 "metadata": {
  "kernelspec": {
   "display_name": "Python 3 (ipykernel)",
   "language": "python",
   "name": "python3"
  },
  "language_info": {
   "codemirror_mode": {
    "name": "ipython",
    "version": 3
   },
   "file_extension": ".py",
   "mimetype": "text/x-python",
   "name": "python",
   "nbconvert_exporter": "python",
   "pygments_lexer": "ipython3",
   "version": "3.9.12"
  }
 },
 "nbformat": 4,
 "nbformat_minor": 5
}
